{
 "cells": [
  {
   "cell_type": "code",
   "execution_count": 5,
   "id": "0bd0fb08",
   "metadata": {},
   "outputs": [
    {
     "name": "stdout",
     "output_type": "stream",
     "text": [
      "The code has an error and needs to be fixed before it can be properly analyzed.\n"
     ]
    }
   ],
   "source": [
    "from langchain.agents import initialize_agent, Tool\n",
    "from langchain.llms import OpenAI\n",
    "\n",
    "def test_code(code: str) -> str:\n",
    "    try:\n",
    "        local_vars = {}\n",
    "        exec(code, {}, local_vars)\n",
    "        return \"Success\"\n",
    "    except Exception as e:\n",
    "        return f\"Error: {e}\"\n",
    "\n",
    "def analyze_output(output: str) -> str:\n",
    "    return f\"Analysis: {output}\"\n",
    "\n",
    "def escalate_to_human(output: str) -> str:\n",
    "    return f\"Escalated to human: {output}\"\n",
    "\n",
    "tools = [\n",
    "    Tool(name=\"CodeTester\", func=test_code, description=\"Tests Python code.\"),\n",
    "    Tool(name=\"Analyzer\", func=analyze_output, description=\"Analyzes output.\"),\n",
    "    Tool(name=\"Escalator\", func=escalate_to_human, description=\"Escalates to human.\")\n",
    "]\n",
    "\n",
    "llm = OpenAI(temperature=0)\n",
    "agent = initialize_agent(tools, llm, agent=\"zero-shot-react-description\")\n",
    "\n",
    "# The agent tries once, cannot retry, cannot branch in code, no shared state\n",
    "result = agent.run(\"Test this code and analyze the output or escalate if there is an error:\\nprint(x)\")\n",
    "print(result)"
   ]
  }
 ],
 "metadata": {
  "kernelspec": {
   "display_name": "langchain",
   "language": "python",
   "name": "python3"
  },
  "language_info": {
   "codemirror_mode": {
    "name": "ipython",
    "version": 3
   },
   "file_extension": ".py",
   "mimetype": "text/x-python",
   "name": "python",
   "nbconvert_exporter": "python",
   "pygments_lexer": "ipython3",
   "version": "3.13.7"
  }
 },
 "nbformat": 4,
 "nbformat_minor": 5
}
